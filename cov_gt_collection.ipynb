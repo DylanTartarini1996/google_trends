{
 "cells": [
  {
   "cell_type": "code",
   "execution_count": 32,
   "metadata": {},
   "outputs": [],
   "source": [
    "import pytrends\n",
    "import pandas as pd\n",
    "import numpy as np\n",
    "import matplotlib.pyplot as plt\n",
    "import seaborn as sns\n",
    "from pytrends.request import TrendReq\n",
    "from pytrends import dailydata"
   ]
  },
  {
   "cell_type": "code",
   "execution_count": 33,
   "metadata": {},
   "outputs": [],
   "source": [
    "pytrend = TrendReq(hl='IT', geo='IT', tz=360)"
   ]
  },
  {
   "cell_type": "markdown",
   "metadata": {},
   "source": [
    "## 1. Finding Suggestions for queries"
   ]
  },
  {
   "cell_type": "code",
   "execution_count": 34,
   "metadata": {},
   "outputs": [
    {
     "data": {
      "text/html": [
       "<div>\n",
       "<style scoped>\n",
       "    .dataframe tbody tr th:only-of-type {\n",
       "        vertical-align: middle;\n",
       "    }\n",
       "\n",
       "    .dataframe tbody tr th {\n",
       "        vertical-align: top;\n",
       "    }\n",
       "\n",
       "    .dataframe thead th {\n",
       "        text-align: right;\n",
       "    }\n",
       "</style>\n",
       "<table border=\"1\" class=\"dataframe\">\n",
       "  <thead>\n",
       "    <tr style=\"text-align: right;\">\n",
       "      <th></th>\n",
       "      <th>title</th>\n",
       "      <th>type</th>\n",
       "    </tr>\n",
       "  </thead>\n",
       "  <tbody>\n",
       "    <tr>\n",
       "      <th>0</th>\n",
       "      <td>Coronavirus</td>\n",
       "      <td>Virus</td>\n",
       "    </tr>\n",
       "    <tr>\n",
       "      <th>1</th>\n",
       "      <td>Coronavirus disease 2019</td>\n",
       "      <td>Argomento</td>\n",
       "    </tr>\n",
       "    <tr>\n",
       "      <th>2</th>\n",
       "      <td>Vaccino COVID-19</td>\n",
       "      <td>Vaccino</td>\n",
       "    </tr>\n",
       "    <tr>\n",
       "      <th>3</th>\n",
       "      <td>Vaccino anti COVID-19 Pfizer-BioNTech</td>\n",
       "      <td>Vaccino</td>\n",
       "    </tr>\n",
       "    <tr>\n",
       "      <th>4</th>\n",
       "      <td>SARS-CoV-2</td>\n",
       "      <td>Virus</td>\n",
       "    </tr>\n",
       "  </tbody>\n",
       "</table>\n",
       "</div>"
      ],
      "text/plain": [
       "                                   title       type\n",
       "0                            Coronavirus      Virus\n",
       "1               Coronavirus disease 2019  Argomento\n",
       "2                       Vaccino COVID-19    Vaccino\n",
       "3  Vaccino anti COVID-19 Pfizer-BioNTech    Vaccino\n",
       "4                             SARS-CoV-2      Virus"
      ]
     },
     "execution_count": 34,
     "metadata": {},
     "output_type": "execute_result"
    }
   ],
   "source": [
    "keywords = pytrend.suggestions(keyword='Coronavirus')\n",
    "\n",
    "kw = pd.DataFrame(keywords)\n",
    "kw.drop(columns= 'mid')   # This column dropped bc it makes no sense"
   ]
  },
  {
   "cell_type": "code",
   "execution_count": 35,
   "metadata": {},
   "outputs": [
    {
     "data": {
      "text/html": [
       "<div>\n",
       "<style scoped>\n",
       "    .dataframe tbody tr th:only-of-type {\n",
       "        vertical-align: middle;\n",
       "    }\n",
       "\n",
       "    .dataframe tbody tr th {\n",
       "        vertical-align: top;\n",
       "    }\n",
       "\n",
       "    .dataframe thead th {\n",
       "        text-align: right;\n",
       "    }\n",
       "</style>\n",
       "<table border=\"1\" class=\"dataframe\">\n",
       "  <thead>\n",
       "    <tr style=\"text-align: right;\">\n",
       "      <th></th>\n",
       "      <th>title</th>\n",
       "      <th>type</th>\n",
       "    </tr>\n",
       "  </thead>\n",
       "  <tbody>\n",
       "    <tr>\n",
       "      <th>0</th>\n",
       "      <td>Coronavirus disease 2019</td>\n",
       "      <td>Argomento</td>\n",
       "    </tr>\n",
       "    <tr>\n",
       "      <th>1</th>\n",
       "      <td>Vaccino COVID-19</td>\n",
       "      <td>Vaccino</td>\n",
       "    </tr>\n",
       "    <tr>\n",
       "      <th>2</th>\n",
       "      <td>SARS-CoV-2</td>\n",
       "      <td>Virus</td>\n",
       "    </tr>\n",
       "    <tr>\n",
       "      <th>3</th>\n",
       "      <td>Test antigenico rapido per SARS-CoV-2</td>\n",
       "      <td>Argomento</td>\n",
       "    </tr>\n",
       "    <tr>\n",
       "      <th>4</th>\n",
       "      <td>Variante Delta del coronavirus</td>\n",
       "      <td>Argomento</td>\n",
       "    </tr>\n",
       "  </tbody>\n",
       "</table>\n",
       "</div>"
      ],
      "text/plain": [
       "                                   title       type\n",
       "0               Coronavirus disease 2019  Argomento\n",
       "1                       Vaccino COVID-19    Vaccino\n",
       "2                             SARS-CoV-2      Virus\n",
       "3  Test antigenico rapido per SARS-CoV-2  Argomento\n",
       "4         Variante Delta del coronavirus  Argomento"
      ]
     },
     "execution_count": 35,
     "metadata": {},
     "output_type": "execute_result"
    }
   ],
   "source": [
    "keywords = pytrend.suggestions(keyword='SARS-CoV-2')\n",
    "\n",
    "kw = pd.DataFrame(keywords)\n",
    "kw.drop(columns= 'mid')   # This column dropped bc it makes no sense"
   ]
  },
  {
   "cell_type": "code",
   "execution_count": 36,
   "metadata": {},
   "outputs": [
    {
     "data": {
      "text/html": [
       "<div>\n",
       "<style scoped>\n",
       "    .dataframe tbody tr th:only-of-type {\n",
       "        vertical-align: middle;\n",
       "    }\n",
       "\n",
       "    .dataframe tbody tr th {\n",
       "        vertical-align: top;\n",
       "    }\n",
       "\n",
       "    .dataframe thead th {\n",
       "        text-align: right;\n",
       "    }\n",
       "</style>\n",
       "<table border=\"1\" class=\"dataframe\">\n",
       "  <thead>\n",
       "    <tr style=\"text-align: right;\">\n",
       "      <th></th>\n",
       "      <th>title</th>\n",
       "      <th>type</th>\n",
       "    </tr>\n",
       "  </thead>\n",
       "  <tbody>\n",
       "    <tr>\n",
       "      <th>0</th>\n",
       "      <td>Vaccino COVID-19</td>\n",
       "      <td>Vaccino</td>\n",
       "    </tr>\n",
       "    <tr>\n",
       "      <th>1</th>\n",
       "      <td>Sindrome post-COVID-19</td>\n",
       "      <td>Argomento</td>\n",
       "    </tr>\n",
       "    <tr>\n",
       "      <th>2</th>\n",
       "      <td>Pandemia di COVID-19 in Scozia</td>\n",
       "      <td>Caso</td>\n",
       "    </tr>\n",
       "    <tr>\n",
       "      <th>3</th>\n",
       "      <td>Ad5-nCoV</td>\n",
       "      <td>Vaccino</td>\n",
       "    </tr>\n",
       "  </tbody>\n",
       "</table>\n",
       "</div>"
      ],
      "text/plain": [
       "                            title       type\n",
       "0                Vaccino COVID-19    Vaccino\n",
       "1          Sindrome post-COVID-19  Argomento\n",
       "2  Pandemia di COVID-19 in Scozia       Caso\n",
       "3                        Ad5-nCoV    Vaccino"
      ]
     },
     "execution_count": 36,
     "metadata": {},
     "output_type": "execute_result"
    }
   ],
   "source": [
    "keywords = pytrend.suggestions(keyword='Sintomi Covid')\n",
    "\n",
    "kw = pd.DataFrame(keywords)\n",
    "kw.drop(columns= 'mid')   # This column dropped bc it makes no sense"
   ]
  },
  {
   "cell_type": "code",
   "execution_count": 37,
   "metadata": {},
   "outputs": [
    {
     "data": {
      "text/html": [
       "<div>\n",
       "<style scoped>\n",
       "    .dataframe tbody tr th:only-of-type {\n",
       "        vertical-align: middle;\n",
       "    }\n",
       "\n",
       "    .dataframe tbody tr th {\n",
       "        vertical-align: top;\n",
       "    }\n",
       "\n",
       "    .dataframe thead th {\n",
       "        text-align: right;\n",
       "    }\n",
       "</style>\n",
       "<table border=\"1\" class=\"dataframe\">\n",
       "  <thead>\n",
       "    <tr style=\"text-align: right;\">\n",
       "      <th></th>\n",
       "      <th>title</th>\n",
       "      <th>type</th>\n",
       "    </tr>\n",
       "  </thead>\n",
       "  <tbody>\n",
       "    <tr>\n",
       "      <th>0</th>\n",
       "      <td>Terapia intensiva</td>\n",
       "      <td>Argomento</td>\n",
       "    </tr>\n",
       "    <tr>\n",
       "      <th>1</th>\n",
       "      <td>Terapia intensiva</td>\n",
       "      <td>Specialità medica</td>\n",
       "    </tr>\n",
       "    <tr>\n",
       "      <th>2</th>\n",
       "      <td>UTIN</td>\n",
       "      <td>Argomento</td>\n",
       "    </tr>\n",
       "    <tr>\n",
       "      <th>3</th>\n",
       "      <td>Unità di terapia intensiva cardiologica</td>\n",
       "      <td>Argomento</td>\n",
       "    </tr>\n",
       "    <tr>\n",
       "      <th>4</th>\n",
       "      <td>Sindrome post-terapia intensiva</td>\n",
       "      <td>Argomento</td>\n",
       "    </tr>\n",
       "  </tbody>\n",
       "</table>\n",
       "</div>"
      ],
      "text/plain": [
       "                                     title               type\n",
       "0                        Terapia intensiva          Argomento\n",
       "1                        Terapia intensiva  Specialità medica\n",
       "2                                     UTIN          Argomento\n",
       "3  Unità di terapia intensiva cardiologica          Argomento\n",
       "4          Sindrome post-terapia intensiva          Argomento"
      ]
     },
     "execution_count": 37,
     "metadata": {},
     "output_type": "execute_result"
    }
   ],
   "source": [
    "keywords = pytrend.suggestions(keyword='Terapia Intensiva')\n",
    "\n",
    "kw = pd.DataFrame(keywords)\n",
    "kw.drop(columns= 'mid')   # This column dropped bc it makes no sense"
   ]
  },
  {
   "cell_type": "code",
   "execution_count": 38,
   "metadata": {},
   "outputs": [
    {
     "data": {
      "text/html": [
       "<div>\n",
       "<style scoped>\n",
       "    .dataframe tbody tr th:only-of-type {\n",
       "        vertical-align: middle;\n",
       "    }\n",
       "\n",
       "    .dataframe tbody tr th {\n",
       "        vertical-align: top;\n",
       "    }\n",
       "\n",
       "    .dataframe thead th {\n",
       "        text-align: right;\n",
       "    }\n",
       "</style>\n",
       "<table border=\"1\" class=\"dataframe\">\n",
       "  <thead>\n",
       "    <tr style=\"text-align: right;\">\n",
       "      <th></th>\n",
       "      <th>title</th>\n",
       "      <th>type</th>\n",
       "    </tr>\n",
       "  </thead>\n",
       "  <tbody>\n",
       "    <tr>\n",
       "      <th>0</th>\n",
       "      <td>Vaccino COVID-19</td>\n",
       "      <td>Vaccino</td>\n",
       "    </tr>\n",
       "    <tr>\n",
       "      <th>1</th>\n",
       "      <td>Vaccino anti COVID-19 Pfizer-BioNTech</td>\n",
       "      <td>Vaccino</td>\n",
       "    </tr>\n",
       "    <tr>\n",
       "      <th>2</th>\n",
       "      <td>mRNA-1273</td>\n",
       "      <td>Vaccino</td>\n",
       "    </tr>\n",
       "    <tr>\n",
       "      <th>3</th>\n",
       "      <td>Ad26.CoV2.S</td>\n",
       "      <td>Vaccino</td>\n",
       "    </tr>\n",
       "    <tr>\n",
       "      <th>4</th>\n",
       "      <td>AZD1222</td>\n",
       "      <td>Vaccino</td>\n",
       "    </tr>\n",
       "  </tbody>\n",
       "</table>\n",
       "</div>"
      ],
      "text/plain": [
       "                                   title     type\n",
       "0                       Vaccino COVID-19  Vaccino\n",
       "1  Vaccino anti COVID-19 Pfizer-BioNTech  Vaccino\n",
       "2                              mRNA-1273  Vaccino\n",
       "3                            Ad26.CoV2.S  Vaccino\n",
       "4                                AZD1222  Vaccino"
      ]
     },
     "execution_count": 38,
     "metadata": {},
     "output_type": "execute_result"
    }
   ],
   "source": [
    "keywords = pytrend.suggestions(keyword='Vaccino Covid')\n",
    "\n",
    "kw = pd.DataFrame(keywords)\n",
    "kw.drop(columns= 'mid')   # This column dropped bc it makes no sense"
   ]
  },
  {
   "cell_type": "markdown",
   "metadata": {},
   "source": [
    "## 2. Looking at Related Queries and Topics"
   ]
  },
  {
   "cell_type": "code",
   "execution_count": 39,
   "metadata": {},
   "outputs": [],
   "source": [
    "kw_list = ['Coronavirus', 'SARS-CoV-2', 'Sintomi Covid', 'Vaccino Covid-19', 'Terapia Intensiva']\n",
    "\n",
    "pytrend.build_payload(kw_list=kw_list, timeframe='2020-01-01 2022-04-30')\n",
    "\n",
    "related_queries = pytrend.related_queries() # related_queries returns a dictionary of dataframes"
   ]
  },
  {
   "cell_type": "code",
   "execution_count": 40,
   "metadata": {},
   "outputs": [],
   "source": [
    "def related_queries_top(rel_q):\n",
    "\n",
    "    rq_top_df= pd.DataFrame(columns=['query', 'value'])\n",
    "\n",
    "    for keyword in rel_q:\n",
    "\n",
    "        df = pd.DataFrame(related_queries.get(keyword).get('top'))\n",
    "\n",
    "        rq_top_df = pd.concat((rq_top_df, df))\n",
    "\n",
    "    rq_top_df = rq_top_df.sort_values('value', ascending=False)\n",
    "\n",
    "    return rq_top_df"
   ]
  },
  {
   "cell_type": "code",
   "execution_count": 41,
   "metadata": {},
   "outputs": [],
   "source": [
    "def related_queries_rise(rel_q):\n",
    "\n",
    "    rq_rise_df = pd.DataFrame(columns=['query', 'value'])\n",
    "\n",
    "    for keyword in rel_q:\n",
    "\n",
    "        df = pd.DataFrame(rel_q.get(keyword).get('rising'))\n",
    "\n",
    "        rq_rise_df = pd.concat((rq_rise_df, df))\n",
    "\n",
    "    rq_rise_df = rq_rise_df.sort_values('value', ascending=False)\n",
    "\n",
    "    return rq_rise_df"
   ]
  },
  {
   "cell_type": "markdown",
   "metadata": {},
   "source": [
    "Related queries with the '**top**' method:"
   ]
  },
  {
   "cell_type": "code",
   "execution_count": 42,
   "metadata": {},
   "outputs": [
    {
     "data": {
      "text/html": [
       "<div>\n",
       "<style scoped>\n",
       "    .dataframe tbody tr th:only-of-type {\n",
       "        vertical-align: middle;\n",
       "    }\n",
       "\n",
       "    .dataframe tbody tr th {\n",
       "        vertical-align: top;\n",
       "    }\n",
       "\n",
       "    .dataframe thead th {\n",
       "        text-align: right;\n",
       "    }\n",
       "</style>\n",
       "<table border=\"1\" class=\"dataframe\">\n",
       "  <thead>\n",
       "    <tr style=\"text-align: right;\">\n",
       "      <th></th>\n",
       "      <th>query</th>\n",
       "      <th>value</th>\n",
       "    </tr>\n",
       "  </thead>\n",
       "  <tbody>\n",
       "    <tr>\n",
       "      <th>0</th>\n",
       "      <td>coronavirus italia</td>\n",
       "      <td>100</td>\n",
       "    </tr>\n",
       "    <tr>\n",
       "      <th>0</th>\n",
       "      <td>in terapia intensiva</td>\n",
       "      <td>100</td>\n",
       "    </tr>\n",
       "    <tr>\n",
       "      <th>0</th>\n",
       "      <td>sars</td>\n",
       "      <td>100</td>\n",
       "    </tr>\n",
       "    <tr>\n",
       "      <th>0</th>\n",
       "      <td>sintomi di covid</td>\n",
       "      <td>100</td>\n",
       "    </tr>\n",
       "    <tr>\n",
       "      <th>0</th>\n",
       "      <td>vaccino anti covid-19</td>\n",
       "      <td>100</td>\n",
       "    </tr>\n",
       "    <tr>\n",
       "      <th>1</th>\n",
       "      <td>covid-19</td>\n",
       "      <td>93</td>\n",
       "    </tr>\n",
       "    <tr>\n",
       "      <th>1</th>\n",
       "      <td>sintomi del covid</td>\n",
       "      <td>77</td>\n",
       "    </tr>\n",
       "    <tr>\n",
       "      <th>2</th>\n",
       "      <td>sars cov 2</td>\n",
       "      <td>76</td>\n",
       "    </tr>\n",
       "    <tr>\n",
       "      <th>2</th>\n",
       "      <td>sintomi covid 19</td>\n",
       "      <td>74</td>\n",
       "    </tr>\n",
       "    <tr>\n",
       "      <th>3</th>\n",
       "      <td>covid 19</td>\n",
       "      <td>74</td>\n",
       "    </tr>\n",
       "  </tbody>\n",
       "</table>\n",
       "</div>"
      ],
      "text/plain": [
       "                   query value\n",
       "0     coronavirus italia   100\n",
       "0   in terapia intensiva   100\n",
       "0                   sars   100\n",
       "0       sintomi di covid   100\n",
       "0  vaccino anti covid-19   100\n",
       "1               covid-19    93\n",
       "1      sintomi del covid    77\n",
       "2             sars cov 2    76\n",
       "2       sintomi covid 19    74\n",
       "3               covid 19    74"
      ]
     },
     "execution_count": 42,
     "metadata": {},
     "output_type": "execute_result"
    }
   ],
   "source": [
    "related_queries_top(rel_q=related_queries).head(10)"
   ]
  },
  {
   "cell_type": "markdown",
   "metadata": {},
   "source": [
    "Related queries with the '**rising**' method:"
   ]
  },
  {
   "cell_type": "code",
   "execution_count": 43,
   "metadata": {},
   "outputs": [
    {
     "data": {
      "text/html": [
       "<div>\n",
       "<style scoped>\n",
       "    .dataframe tbody tr th:only-of-type {\n",
       "        vertical-align: middle;\n",
       "    }\n",
       "\n",
       "    .dataframe tbody tr th {\n",
       "        vertical-align: top;\n",
       "    }\n",
       "\n",
       "    .dataframe thead th {\n",
       "        text-align: right;\n",
       "    }\n",
       "</style>\n",
       "<table border=\"1\" class=\"dataframe\">\n",
       "  <thead>\n",
       "    <tr style=\"text-align: right;\">\n",
       "      <th></th>\n",
       "      <th>query</th>\n",
       "      <th>value</th>\n",
       "    </tr>\n",
       "  </thead>\n",
       "  <tbody>\n",
       "    <tr>\n",
       "      <th>0</th>\n",
       "      <td>vaccino anti covid-19</td>\n",
       "      <td>7597050</td>\n",
       "    </tr>\n",
       "    <tr>\n",
       "      <th>2</th>\n",
       "      <td>vaccino covid</td>\n",
       "      <td>5099550</td>\n",
       "    </tr>\n",
       "    <tr>\n",
       "      <th>1</th>\n",
       "      <td>covid</td>\n",
       "      <td>5099550</td>\n",
       "    </tr>\n",
       "    <tr>\n",
       "      <th>0</th>\n",
       "      <td>terapia intensiva covid</td>\n",
       "      <td>2807350</td>\n",
       "    </tr>\n",
       "    <tr>\n",
       "      <th>3</th>\n",
       "      <td>vaccino anti covid</td>\n",
       "      <td>2649550</td>\n",
       "    </tr>\n",
       "    <tr>\n",
       "      <th>4</th>\n",
       "      <td>vaccino coronavirus</td>\n",
       "      <td>2004650</td>\n",
       "    </tr>\n",
       "    <tr>\n",
       "      <th>1</th>\n",
       "      <td>coronavirus terapia intensiva</td>\n",
       "      <td>1768400</td>\n",
       "    </tr>\n",
       "    <tr>\n",
       "      <th>0</th>\n",
       "      <td>sintomi di covid</td>\n",
       "      <td>1591000</td>\n",
       "    </tr>\n",
       "    <tr>\n",
       "      <th>1</th>\n",
       "      <td>sintomi del covid</td>\n",
       "      <td>1223450</td>\n",
       "    </tr>\n",
       "    <tr>\n",
       "      <th>2</th>\n",
       "      <td>sintomi covid 19</td>\n",
       "      <td>1177600</td>\n",
       "    </tr>\n",
       "  </tbody>\n",
       "</table>\n",
       "</div>"
      ],
      "text/plain": [
       "                           query    value\n",
       "0          vaccino anti covid-19  7597050\n",
       "2                  vaccino covid  5099550\n",
       "1                          covid  5099550\n",
       "0        terapia intensiva covid  2807350\n",
       "3             vaccino anti covid  2649550\n",
       "4            vaccino coronavirus  2004650\n",
       "1  coronavirus terapia intensiva  1768400\n",
       "0               sintomi di covid  1591000\n",
       "1              sintomi del covid  1223450\n",
       "2               sintomi covid 19  1177600"
      ]
     },
     "execution_count": 43,
     "metadata": {},
     "output_type": "execute_result"
    }
   ],
   "source": [
    "related_queries_rise(rel_q=related_queries).head(10)"
   ]
  },
  {
   "cell_type": "code",
   "execution_count": 44,
   "metadata": {},
   "outputs": [],
   "source": [
    "related_topics = pytrend.related_topics() # related_topics returns a dictionary of dataframes"
   ]
  },
  {
   "cell_type": "code",
   "execution_count": 45,
   "metadata": {},
   "outputs": [],
   "source": [
    "def related_topic_top(rel_t):\n",
    "\n",
    "    rt_top_df = pd.DataFrame(columns=['topic_title', 'topic_type', 'value', 'hasData'])\n",
    "\n",
    "    for topic in rel_t:\n",
    "\n",
    "        df = pd.DataFrame(rel_t.get(topic).get('top'))\n",
    "        df = df.drop(columns= ['topic_mid', 'formattedValue', 'link'])\n",
    "\n",
    "        rt_top_df = pd.concat((rt_top_df, df))\n",
    "\n",
    "    rt_top_df = rt_top_df.sort_values('value', ascending=False)\n",
    "\n",
    "    return rt_top_df"
   ]
  },
  {
   "cell_type": "code",
   "execution_count": 46,
   "metadata": {},
   "outputs": [],
   "source": [
    "def related_topic_rise(rel_t):\n",
    "\n",
    "    rt_rise_df = pd.DataFrame(columns=['topic_title', 'topic_type', 'value', 'hasData'])\n",
    "\n",
    "    for topic in rel_t:\n",
    "\n",
    "        df = pd.DataFrame(rel_t.get(topic).get('rising'))\n",
    "        df = df.drop(columns= ['topic_mid', 'formattedValue', 'link'])\n",
    "\n",
    "        rt_rise_df = pd.concat((rt_rise_df, df))\n",
    "\n",
    "    rt_rise_df = rt_rise_df.sort_values('value', ascending=False)\n",
    "\n",
    "    return rt_rise_df"
   ]
  },
  {
   "cell_type": "markdown",
   "metadata": {},
   "source": [
    "Related topics with '**top**' method"
   ]
  },
  {
   "cell_type": "code",
   "execution_count": 47,
   "metadata": {},
   "outputs": [
    {
     "data": {
      "text/html": [
       "<div>\n",
       "<style scoped>\n",
       "    .dataframe tbody tr th:only-of-type {\n",
       "        vertical-align: middle;\n",
       "    }\n",
       "\n",
       "    .dataframe tbody tr th {\n",
       "        vertical-align: top;\n",
       "    }\n",
       "\n",
       "    .dataframe thead th {\n",
       "        text-align: right;\n",
       "    }\n",
       "</style>\n",
       "<table border=\"1\" class=\"dataframe\">\n",
       "  <thead>\n",
       "    <tr style=\"text-align: right;\">\n",
       "      <th></th>\n",
       "      <th>topic_title</th>\n",
       "      <th>topic_type</th>\n",
       "      <th>value</th>\n",
       "      <th>hasData</th>\n",
       "    </tr>\n",
       "  </thead>\n",
       "  <tbody>\n",
       "  </tbody>\n",
       "</table>\n",
       "</div>"
      ],
      "text/plain": [
       "Empty DataFrame\n",
       "Columns: [topic_title, topic_type, value, hasData]\n",
       "Index: []"
      ]
     },
     "execution_count": 47,
     "metadata": {},
     "output_type": "execute_result"
    }
   ],
   "source": [
    "related_topic_top(rel_t=related_topics).head(10)"
   ]
  },
  {
   "cell_type": "markdown",
   "metadata": {},
   "source": [
    "Related topics with '**rising**' method"
   ]
  },
  {
   "cell_type": "code",
   "execution_count": 48,
   "metadata": {},
   "outputs": [
    {
     "data": {
      "text/html": [
       "<div>\n",
       "<style scoped>\n",
       "    .dataframe tbody tr th:only-of-type {\n",
       "        vertical-align: middle;\n",
       "    }\n",
       "\n",
       "    .dataframe tbody tr th {\n",
       "        vertical-align: top;\n",
       "    }\n",
       "\n",
       "    .dataframe thead th {\n",
       "        text-align: right;\n",
       "    }\n",
       "</style>\n",
       "<table border=\"1\" class=\"dataframe\">\n",
       "  <thead>\n",
       "    <tr style=\"text-align: right;\">\n",
       "      <th></th>\n",
       "      <th>topic_title</th>\n",
       "      <th>topic_type</th>\n",
       "      <th>value</th>\n",
       "      <th>hasData</th>\n",
       "    </tr>\n",
       "  </thead>\n",
       "  <tbody>\n",
       "  </tbody>\n",
       "</table>\n",
       "</div>"
      ],
      "text/plain": [
       "Empty DataFrame\n",
       "Columns: [topic_title, topic_type, value, hasData]\n",
       "Index: []"
      ]
     },
     "execution_count": 48,
     "metadata": {},
     "output_type": "execute_result"
    }
   ],
   "source": [
    "related_topic_rise(rel_t=related_topics).head(10)"
   ]
  },
  {
   "cell_type": "markdown",
   "metadata": {},
   "source": [
    "## 3. Requesting Interest Over Time"
   ]
  },
  {
   "cell_type": "markdown",
   "metadata": {},
   "source": [
    "To request **daily data** for a timeframe larger than 90 days, we need to iterate our request for each month. Luckily, ***pytrends.dailydata()*** performs this operation this for us."
   ]
  },
  {
   "cell_type": "code",
   "execution_count": 49,
   "metadata": {},
   "outputs": [],
   "source": [
    "kw_list = ['Coronavirus', 'SARS-CoV-2', 'Sintomi Covid', 'Vaccino Covid-19', 'Terapia Intensiva']"
   ]
  },
  {
   "cell_type": "code",
   "execution_count": 50,
   "metadata": {},
   "outputs": [],
   "source": [
    "def multiple_daily_interest(keywords, start_year, start_mon, stop_year, stop_mon, geo):\n",
    "\n",
    "    '''Returns a dataframe with the daily Google Trends Query Index for a list of words'''\n",
    "\n",
    "    daily_interest = pd.DataFrame()\n",
    "\n",
    "    for keyword in keywords:\n",
    "    \n",
    "        dd = dailydata.get_daily_data(word=keyword, start_year=start_year, start_mon=start_mon,\n",
    "                        stop_year=stop_year, stop_mon=stop_mon, geo=geo, verbose=False)\n",
    "\n",
    "        dd = dd[[keyword]]\n",
    "\n",
    "        daily_interest = pd.concat([daily_interest, dd], axis=1)\n",
    "    \n",
    "    return daily_interest"
   ]
  },
  {
   "cell_type": "code",
   "execution_count": 51,
   "metadata": {},
   "outputs": [],
   "source": [
    "# this may take a while..\n",
    "\n",
    "daily_covid_int = multiple_daily_interest(keywords=kw_list, start_year=2020, start_mon=1,\n",
    "                    stop_year=2022, stop_mon=4, geo='IT')"
   ]
  },
  {
   "cell_type": "code",
   "execution_count": 52,
   "metadata": {},
   "outputs": [
    {
     "data": {
      "text/html": [
       "<div>\n",
       "<style scoped>\n",
       "    .dataframe tbody tr th:only-of-type {\n",
       "        vertical-align: middle;\n",
       "    }\n",
       "\n",
       "    .dataframe tbody tr th {\n",
       "        vertical-align: top;\n",
       "    }\n",
       "\n",
       "    .dataframe thead th {\n",
       "        text-align: right;\n",
       "    }\n",
       "</style>\n",
       "<table border=\"1\" class=\"dataframe\">\n",
       "  <thead>\n",
       "    <tr style=\"text-align: right;\">\n",
       "      <th></th>\n",
       "      <th>Coronavirus</th>\n",
       "      <th>SARS-CoV-2</th>\n",
       "      <th>Sintomi Covid</th>\n",
       "      <th>Vaccino Covid-19</th>\n",
       "      <th>Terapia Intensiva</th>\n",
       "    </tr>\n",
       "    <tr>\n",
       "      <th>date</th>\n",
       "      <th></th>\n",
       "      <th></th>\n",
       "      <th></th>\n",
       "      <th></th>\n",
       "      <th></th>\n",
       "    </tr>\n",
       "  </thead>\n",
       "  <tbody>\n",
       "    <tr>\n",
       "      <th>2020-01-01</th>\n",
       "      <td>NaN</td>\n",
       "      <td>NaN</td>\n",
       "      <td>NaN</td>\n",
       "      <td>NaN</td>\n",
       "      <td>NaN</td>\n",
       "    </tr>\n",
       "    <tr>\n",
       "      <th>2020-01-02</th>\n",
       "      <td>NaN</td>\n",
       "      <td>NaN</td>\n",
       "      <td>NaN</td>\n",
       "      <td>NaN</td>\n",
       "      <td>NaN</td>\n",
       "    </tr>\n",
       "    <tr>\n",
       "      <th>2020-01-03</th>\n",
       "      <td>NaN</td>\n",
       "      <td>NaN</td>\n",
       "      <td>NaN</td>\n",
       "      <td>NaN</td>\n",
       "      <td>NaN</td>\n",
       "    </tr>\n",
       "    <tr>\n",
       "      <th>2020-01-04</th>\n",
       "      <td>NaN</td>\n",
       "      <td>NaN</td>\n",
       "      <td>NaN</td>\n",
       "      <td>NaN</td>\n",
       "      <td>NaN</td>\n",
       "    </tr>\n",
       "    <tr>\n",
       "      <th>2020-01-05</th>\n",
       "      <td>0.00</td>\n",
       "      <td>NaN</td>\n",
       "      <td>NaN</td>\n",
       "      <td>NaN</td>\n",
       "      <td>1.11</td>\n",
       "    </tr>\n",
       "    <tr>\n",
       "      <th>...</th>\n",
       "      <td>...</td>\n",
       "      <td>...</td>\n",
       "      <td>...</td>\n",
       "      <td>...</td>\n",
       "      <td>...</td>\n",
       "    </tr>\n",
       "    <tr>\n",
       "      <th>2022-04-26</th>\n",
       "      <td>0.71</td>\n",
       "      <td>10.20</td>\n",
       "      <td>14.76</td>\n",
       "      <td>1.14</td>\n",
       "      <td>0.45</td>\n",
       "    </tr>\n",
       "    <tr>\n",
       "      <th>2022-04-27</th>\n",
       "      <td>0.69</td>\n",
       "      <td>1.65</td>\n",
       "      <td>11.34</td>\n",
       "      <td>1.10</td>\n",
       "      <td>1.32</td>\n",
       "    </tr>\n",
       "    <tr>\n",
       "      <th>2022-04-28</th>\n",
       "      <td>0.69</td>\n",
       "      <td>3.30</td>\n",
       "      <td>12.96</td>\n",
       "      <td>0.00</td>\n",
       "      <td>2.46</td>\n",
       "    </tr>\n",
       "    <tr>\n",
       "      <th>2022-04-29</th>\n",
       "      <td>0.73</td>\n",
       "      <td>2.70</td>\n",
       "      <td>13.32</td>\n",
       "      <td>0.00</td>\n",
       "      <td>1.83</td>\n",
       "    </tr>\n",
       "    <tr>\n",
       "      <th>2022-04-30</th>\n",
       "      <td>0.68</td>\n",
       "      <td>0.00</td>\n",
       "      <td>16.38</td>\n",
       "      <td>0.00</td>\n",
       "      <td>0.00</td>\n",
       "    </tr>\n",
       "  </tbody>\n",
       "</table>\n",
       "<p>851 rows × 5 columns</p>\n",
       "</div>"
      ],
      "text/plain": [
       "            Coronavirus  SARS-CoV-2  Sintomi Covid  Vaccino Covid-19  \\\n",
       "date                                                                   \n",
       "2020-01-01          NaN         NaN            NaN               NaN   \n",
       "2020-01-02          NaN         NaN            NaN               NaN   \n",
       "2020-01-03          NaN         NaN            NaN               NaN   \n",
       "2020-01-04          NaN         NaN            NaN               NaN   \n",
       "2020-01-05         0.00         NaN            NaN               NaN   \n",
       "...                 ...         ...            ...               ...   \n",
       "2022-04-26         0.71       10.20          14.76              1.14   \n",
       "2022-04-27         0.69        1.65          11.34              1.10   \n",
       "2022-04-28         0.69        3.30          12.96              0.00   \n",
       "2022-04-29         0.73        2.70          13.32              0.00   \n",
       "2022-04-30         0.68        0.00          16.38              0.00   \n",
       "\n",
       "            Terapia Intensiva  \n",
       "date                           \n",
       "2020-01-01                NaN  \n",
       "2020-01-02                NaN  \n",
       "2020-01-03                NaN  \n",
       "2020-01-04                NaN  \n",
       "2020-01-05               1.11  \n",
       "...                       ...  \n",
       "2022-04-26               0.45  \n",
       "2022-04-27               1.32  \n",
       "2022-04-28               2.46  \n",
       "2022-04-29               1.83  \n",
       "2022-04-30               0.00  \n",
       "\n",
       "[851 rows x 5 columns]"
      ]
     },
     "execution_count": 52,
     "metadata": {},
     "output_type": "execute_result"
    }
   ],
   "source": [
    "daily_covid_int"
   ]
  },
  {
   "cell_type": "markdown",
   "metadata": {},
   "source": [
    "## ATTENZIONE"
   ]
  },
  {
   "cell_type": "code",
   "execution_count": 53,
   "metadata": {},
   "outputs": [
    {
     "data": {
      "text/plain": [
       "Text(0, 0.5, 'Query Index')"
      ]
     },
     "execution_count": 53,
     "metadata": {},
     "output_type": "execute_result"
    },
    {
     "data": {
      "image/png": "[encoded data removed]",
      "text/plain": [
       "<Figure size 1008x432 with 1 Axes>"
      ]
     },
     "metadata": {
      "needs_background": "light"
     },
     "output_type": "display_data"
    }
   ],
   "source": [
    "# creating graph\n",
    "fig, ax = plt.subplots(figsize=(14, 6))\n",
    "\n",
    "daily_covid_int['Coronavirus'].plot(color='mediumblue')\n",
    "daily_covid_int['SARS-CoV-2'].plot(color='limegreen')\n",
    "daily_covid_int['Sintomi Covid'].plot(color='orange')\n",
    "daily_covid_int['Vaccino Covid-19'].plot(color='red')\n",
    "daily_covid_int['Terapia Intensiva'].plot(color='magenta')\n",
    "# adding legend, title and labels\n",
    "ax.legend(ncol=1, loc='upper right', frameon=True)\n",
    "plt.title('Covid-19 Daily Queries (ITA)', fontweight='bold')\n",
    "plt.xlabel('Date')\n",
    "plt.ylabel('Query Index')"
   ]
  },
  {
   "cell_type": "code",
   "execution_count": 27,
   "metadata": {},
   "outputs": [
    {
     "data": {
      "text/html": [
       "<div>\n",
       "<style scoped>\n",
       "    .dataframe tbody tr th:only-of-type {\n",
       "        vertical-align: middle;\n",
       "    }\n",
       "\n",
       "    .dataframe tbody tr th {\n",
       "        vertical-align: top;\n",
       "    }\n",
       "\n",
       "    .dataframe thead th {\n",
       "        text-align: right;\n",
       "    }\n",
       "</style>\n",
       "<table border=\"1\" class=\"dataframe\">\n",
       "  <thead>\n",
       "    <tr style=\"text-align: right;\">\n",
       "      <th></th>\n",
       "      <th>Coronavirus</th>\n",
       "      <th>SARS-CoV-2</th>\n",
       "      <th>Sintomi Covid</th>\n",
       "      <th>Vaccino Covid-19</th>\n",
       "      <th>Terapia Intensiva</th>\n",
       "    </tr>\n",
       "    <tr>\n",
       "      <th>date</th>\n",
       "      <th></th>\n",
       "      <th></th>\n",
       "      <th></th>\n",
       "      <th></th>\n",
       "      <th></th>\n",
       "    </tr>\n",
       "  </thead>\n",
       "  <tbody>\n",
       "    <tr>\n",
       "      <th>2020-01-01</th>\n",
       "      <td>NaN</td>\n",
       "      <td>NaN</td>\n",
       "      <td>NaN</td>\n",
       "      <td>NaN</td>\n",
       "      <td>NaN</td>\n",
       "    </tr>\n",
       "    <tr>\n",
       "      <th>2020-01-02</th>\n",
       "      <td>NaN</td>\n",
       "      <td>NaN</td>\n",
       "      <td>NaN</td>\n",
       "      <td>NaN</td>\n",
       "      <td>NaN</td>\n",
       "    </tr>\n",
       "    <tr>\n",
       "      <th>2020-01-03</th>\n",
       "      <td>NaN</td>\n",
       "      <td>NaN</td>\n",
       "      <td>NaN</td>\n",
       "      <td>NaN</td>\n",
       "      <td>NaN</td>\n",
       "    </tr>\n",
       "    <tr>\n",
       "      <th>2020-01-04</th>\n",
       "      <td>NaN</td>\n",
       "      <td>NaN</td>\n",
       "      <td>NaN</td>\n",
       "      <td>NaN</td>\n",
       "      <td>NaN</td>\n",
       "    </tr>\n",
       "    <tr>\n",
       "      <th>2020-01-05</th>\n",
       "      <td>0.0</td>\n",
       "      <td>NaN</td>\n",
       "      <td>NaN</td>\n",
       "      <td>NaN</td>\n",
       "      <td>1.11</td>\n",
       "    </tr>\n",
       "  </tbody>\n",
       "</table>\n",
       "</div>"
      ],
      "text/plain": [
       "            Coronavirus  SARS-CoV-2  Sintomi Covid  Vaccino Covid-19  \\\n",
       "date                                                                   \n",
       "2020-01-01          NaN         NaN            NaN               NaN   \n",
       "2020-01-02          NaN         NaN            NaN               NaN   \n",
       "2020-01-03          NaN         NaN            NaN               NaN   \n",
       "2020-01-04          NaN         NaN            NaN               NaN   \n",
       "2020-01-05          0.0         NaN            NaN               NaN   \n",
       "\n",
       "            Terapia Intensiva  \n",
       "date                           \n",
       "2020-01-01                NaN  \n",
       "2020-01-02                NaN  \n",
       "2020-01-03                NaN  \n",
       "2020-01-04                NaN  \n",
       "2020-01-05               1.11  "
      ]
     },
     "execution_count": 27,
     "metadata": {},
     "output_type": "execute_result"
    }
   ],
   "source": [
    "daily_covid_int.head()"
   ]
  },
  {
   "cell_type": "code",
   "execution_count": 28,
   "metadata": {},
   "outputs": [],
   "source": [
    "# translating colnames in english\n",
    "\n",
    "mapping = {daily_covid_int.columns[0]:'Coronavirus',\n",
    "        daily_covid_int.columns[1]:'SARS-CoV-2', daily_covid_int.columns[2]:'Covid Symptoms',\n",
    "        daily_covid_int.columns[3]:'Covid Vaccine', daily_covid_int.columns[4]:'Intensive Care'}\n",
    "\n",
    "daily_covid_int = daily_covid_int.rename(columns = mapping)"
   ]
  },
  {
   "cell_type": "code",
   "execution_count": 30,
   "metadata": {},
   "outputs": [],
   "source": [
    "daily_covid_int.to_csv('gt_04052022')"
   ]
  }
 ],
 "metadata": {
  "interpreter": {
   "hash": "965104f1edf7c4e5421268b5d37993f2ff4c909c062cee112af76de1d2eec7da"
  },
  "kernelspec": {
   "display_name": "Python 3.9.7 64-bit",
   "language": "python",
   "name": "python3"
  },
  "language_info": {
   "codemirror_mode": {
    "name": "ipython",
    "version": 3
   },
   "file_extension": ".py",
   "mimetype": "text/x-python",
   "name": "python",
   "nbconvert_exporter": "python",
   "pygments_lexer": "ipython3",
   "version": "3.9.7"
  },
  "orig_nbformat": 4
 },
 "nbformat": 4,
 "nbformat_minor": 2
}
