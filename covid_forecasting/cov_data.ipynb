{
 "cells": [
  {
   "cell_type": "code",
   "execution_count": 1,
   "metadata": {},
   "outputs": [],
   "source": [
    "import pandas as pd\n",
    "import numpy as np"
   ]
  },
  {
   "cell_type": "code",
   "execution_count": 5,
   "metadata": {},
   "outputs": [
    {
     "data": {
      "text/html": [
       "<div>\n",
       "<style scoped>\n",
       "    .dataframe tbody tr th:only-of-type {\n",
       "        vertical-align: middle;\n",
       "    }\n",
       "\n",
       "    .dataframe tbody tr th {\n",
       "        vertical-align: top;\n",
       "    }\n",
       "\n",
       "    .dataframe thead th {\n",
       "        text-align: right;\n",
       "    }\n",
       "</style>\n",
       "<table border=\"1\" class=\"dataframe\">\n",
       "  <thead>\n",
       "    <tr style=\"text-align: right;\">\n",
       "      <th></th>\n",
       "      <th>intensive_care</th>\n",
       "      <th>hospitalised</th>\n",
       "      <th>tot_positives</th>\n",
       "      <th>delta_tot_positives</th>\n",
       "      <th>new_positives</th>\n",
       "      <th>deceased</th>\n",
       "      <th>delta_icus</th>\n",
       "      <th>delta_deceased</th>\n",
       "    </tr>\n",
       "  </thead>\n",
       "  <tbody>\n",
       "    <tr>\n",
       "      <th>2022-04-26</th>\n",
       "      <td>409</td>\n",
       "      <td>10737</td>\n",
       "      <td>1234976</td>\n",
       "      <td>-7624</td>\n",
       "      <td>29575</td>\n",
       "      <td>162927</td>\n",
       "      <td>-7.0</td>\n",
       "      <td>146.0</td>\n",
       "    </tr>\n",
       "    <tr>\n",
       "      <th>2022-04-27</th>\n",
       "      <td>394</td>\n",
       "      <td>10549</td>\n",
       "      <td>1234676</td>\n",
       "      <td>-300</td>\n",
       "      <td>87940</td>\n",
       "      <td>163113</td>\n",
       "      <td>-15.0</td>\n",
       "      <td>186.0</td>\n",
       "    </tr>\n",
       "    <tr>\n",
       "      <th>2022-04-28</th>\n",
       "      <td>382</td>\n",
       "      <td>10458</td>\n",
       "      <td>1248806</td>\n",
       "      <td>14130</td>\n",
       "      <td>69204</td>\n",
       "      <td>163244</td>\n",
       "      <td>-12.0</td>\n",
       "      <td>131.0</td>\n",
       "    </tr>\n",
       "    <tr>\n",
       "      <th>2022-04-29</th>\n",
       "      <td>371</td>\n",
       "      <td>10313</td>\n",
       "      <td>1247117</td>\n",
       "      <td>-1689</td>\n",
       "      <td>58861</td>\n",
       "      <td>163377</td>\n",
       "      <td>-11.0</td>\n",
       "      <td>133.0</td>\n",
       "    </tr>\n",
       "    <tr>\n",
       "      <th>2022-04-30</th>\n",
       "      <td>366</td>\n",
       "      <td>10192</td>\n",
       "      <td>1229379</td>\n",
       "      <td>-17738</td>\n",
       "      <td>53602</td>\n",
       "      <td>163507</td>\n",
       "      <td>-5.0</td>\n",
       "      <td>130.0</td>\n",
       "    </tr>\n",
       "  </tbody>\n",
       "</table>\n",
       "</div>"
      ],
      "text/plain": [
       "            intensive_care  hospitalised  tot_positives  delta_tot_positives  \\\n",
       "2022-04-26             409         10737        1234976                -7624   \n",
       "2022-04-27             394         10549        1234676                 -300   \n",
       "2022-04-28             382         10458        1248806                14130   \n",
       "2022-04-29             371         10313        1247117                -1689   \n",
       "2022-04-30             366         10192        1229379               -17738   \n",
       "\n",
       "            new_positives  deceased  delta_icus  delta_deceased  \n",
       "2022-04-26          29575    162927        -7.0           146.0  \n",
       "2022-04-27          87940    163113       -15.0           186.0  \n",
       "2022-04-28          69204    163244       -12.0           131.0  \n",
       "2022-04-29          58861    163377       -11.0           133.0  \n",
       "2022-04-30          53602    163507        -5.0           130.0  "
      ]
     },
     "execution_count": 5,
     "metadata": {},
     "output_type": "execute_result"
    }
   ],
   "source": [
    "cov_data = pd.read_json('dpc-covid19-ita-andamento-nazionale.json')\n",
    "\n",
    "rng = pd.date_range(start = '2020-02-24', end = '2022-05-03', freq='D')\n",
    "\n",
    "cov_data = cov_data.set_index(keys=rng, drop=True, inplace=False)\n",
    "cov_data = cov_data[['terapia_intensiva','totale_ospedalizzati',\n",
    "                    'totale_positivi','variazione_totale_positivi',\n",
    "                    'nuovi_positivi', 'deceduti']]\n",
    "\n",
    "mapping = {cov_data.columns[0]:'intensive_care',\n",
    "        cov_data.columns[1]:'hospitalised', cov_data.columns[2]:'tot_positive_cases',\n",
    "        cov_data.columns[2]:'tot_positives', cov_data.columns[3]:'delta_tot_positives', \n",
    "        cov_data.columns[4]:'new_positives', cov_data.columns[5]:'deceased'}\n",
    "\n",
    "cov_data = cov_data.rename(columns = mapping)\n",
    "cov_data['delta_icus'] = cov_data['intensive_care'].diff(periods=1)\n",
    "cov_data['delta_deceased'] = cov_data['deceased'].diff(periods=1)\n",
    "cov_data = cov_data.iloc[:-3,:]\n",
    "cov_data = cov_data.iloc[1:]\n",
    "cov_data.tail(5)"
   ]
  },
  {
   "cell_type": "code",
   "execution_count": 3,
   "metadata": {},
   "outputs": [],
   "source": [
    "cov_data.to_csv('cov_data_ita')"
   ]
  }
 ],
 "metadata": {
  "interpreter": {
   "hash": "965104f1edf7c4e5421268b5d37993f2ff4c909c062cee112af76de1d2eec7da"
  },
  "kernelspec": {
   "display_name": "Python 3.9.7 64-bit",
   "language": "python",
   "name": "python3"
  },
  "language_info": {
   "codemirror_mode": {
    "name": "ipython",
    "version": 3
   },
   "file_extension": ".py",
   "mimetype": "text/x-python",
   "name": "python",
   "nbconvert_exporter": "python",
   "pygments_lexer": "ipython3",
   "version": "3.9.7"
  },
  "orig_nbformat": 4
 },
 "nbformat": 4,
 "nbformat_minor": 2
}
